{
 "cells": [
  {
   "cell_type": "markdown",
   "id": "9bff61f5",
   "metadata": {},
   "source": [
    "# **Assignment 5 - Train-Test Split**\n",
    "\n",
    "By 23520011 - Sharaneshwar Punjal \n",
    "\n",
    "1. Generate 1000 male heights - mean 166, sd = 5.5\n",
    "2. Generate 1000 female heights - mean 152, sd = 4.5 \n",
    "3. Use test train split to set aside random 200 male and random 200 female data points as test set \n",
    "4. Use train data set of remaining 800 male and 800 female heights to train Probability based classifier. Calculate classification accuracy on both train and test data points. \n",
    "5. Impact of outliers\n",
    "* Identify top 50 female hights in train data, increase hight of these female samples by 10 cm each \n",
    "    1. Observe change in mean and sd of train data after change in heights \n",
    "* Train the probability-based classification algorithm on this altered train data \n",
    "    1. Estimate the classification accuracy on both the train and test data \n",
    "    2. Remove outliers from the train data using z-score method on female data \n",
    "    3. Again, train the probability-based classification on the train data after outlier removal and estimate classification accuracy on both test and train data \n",
    "    4. Observe the changes in test and train accuracy. \n",
    "6. Impact of Trimming \n",
    "* Consider the female train data including the 50 outliers for this section \n",
    "* For k in range (1:15) \n",
    "    1. Trim upper and lower k% of female train data set \n",
    "    2. Train probability based on classifier on female trimmed train dataset and male train data set \n",
    "    3. Calculate accuracy of classification on both train and test data set \n",
    "* Observe impact of trimming on classification accuracy on train and test data sets"
   ]
  },
  {
   "cell_type": "code",
   "execution_count": 24,
   "id": "c0c7e1db-c3a2-4c05-8fde-184ca1fcaa3c",
   "metadata": {},
   "outputs": [],
   "source": [
    "import numpy as np\n",
    "import pandas as pd\n",
    "\n",
    "np.random.seed(42)\n",
    "male_heights = np.random.normal(loc=166, scale=5.5, size=1000)\n",
    "female_heights = np.random.normal(loc=152, scale=4.5, size=1000)"
   ]
  },
  {
   "cell_type": "code",
   "execution_count": 25,
   "id": "63a19d4e-3c7f-427f-adcd-13c84af8452b",
   "metadata": {},
   "outputs": [
    {
     "name": "stdout",
     "output_type": "stream",
     "text": [
      "152.38455889547586 4.479383754168807\n"
     ]
    }
   ],
   "source": [
    "from sklearn.model_selection import train_test_split\n",
    "\n",
    "male_train, male_test = train_test_split(male_heights, test_size=200, random_state=42)\n",
    "female_train, female_test = train_test_split(female_heights, test_size=200, random_state=42)\n",
    "\n",
    "male_mean, male_std = np.mean(male_train), np.std(male_train)\n",
    "female_mean, female_std = np.mean(female_train), np.std(female_train)\n",
    "\n",
    "print(female_mean, female_std)"
   ]
  },
  {
   "cell_type": "code",
   "execution_count": 26,
   "id": "811a1467-77cb-4ee9-8771-17406f22f468",
   "metadata": {},
   "outputs": [],
   "source": [
    "def gaussian_pdf(height, mean, std):\n",
    "    return (1 / (std * np.sqrt(2 * np.pi))) * np.exp(-0.5 * ((height - mean) / std) ** 2)\n",
    "\n",
    "def classify(height, male_mean, male_std, female_mean, female_std):\n",
    "    p_male = gaussian_pdf(height, male_mean, male_std)\n",
    "    p_female = gaussian_pdf(height, female_mean, female_std)\n",
    "    return 1 if p_male > p_female else 0"
   ]
  },
  {
   "cell_type": "code",
   "execution_count": 28,
   "id": "3d355a1b-53d7-4a21-9969-7d4dd51b8039",
   "metadata": {},
   "outputs": [
    {
     "name": "stdout",
     "output_type": "stream",
     "text": [
      "Male Train Accuracy: 0.91\n",
      "Female Train Accuracy: 0.925\n",
      "Male Test Accuracy: 0.905\n",
      "Female Test Accuracy: 0.94\n",
      "Overall Train Accuracy: 0.9175\n",
      "Overall Test Accuracy: 0.9225\n"
     ]
    }
   ],
   "source": [
    "male_train_predictions = np.array([classify(h, male_mean, male_std, female_mean, female_std) for h in male_train])\n",
    "female_train_predictions = np.array([classify(h, male_mean, male_std, female_mean, female_std) for h in female_train])\n",
    "\n",
    "male_test_predictions = np.array([classify(h, male_mean, male_std, female_mean, female_std) for h in male_test])\n",
    "female_test_predictions = np.array([classify(h, male_mean, male_std, female_mean, female_std) for h in female_test])\n",
    "\n",
    "male_train_accuracy = np.mean(male_train_predictions ==1)\n",
    "female_train_accuracy = np.mean(female_train_predictions == 0)\n",
    "\n",
    "male_test_accuracy = np.mean(male_test_predictions ==1)\n",
    "female_test_accuracy = np.mean(female_test_predictions == 0)\n",
    "\n",
    "print(\"Male Train Accuracy:\", male_train_accuracy)\n",
    "print(\"Female Train Accuracy:\", female_train_accuracy)\n",
    "print(\"Male Test Accuracy:\", male_test_accuracy)\n",
    "print(\"Female Test Accuracy:\", female_test_accuracy)\n",
    "\n",
    "train_accuracy = (male_train_accuracy + female_train_accuracy) / 2\n",
    "test_accuracy = (male_test_accuracy + female_test_accuracy) / 2\n",
    "\n",
    "print(\"Overall Train Accuracy:\", train_accuracy)\n",
    "print(\"Overall Test Accuracy:\", test_accuracy)\n"
   ]
  },
  {
   "cell_type": "markdown",
   "id": "a0a16a29",
   "metadata": {},
   "source": [
    "The classifier performs well and similarly on both train and test sets. The close overall \n",
    "accuracies indicate a stable model with good generalization."
   ]
  },
  {
   "cell_type": "markdown",
   "id": "4a47dbe8",
   "metadata": {},
   "source": [
    "## Impact of Outliers"
   ]
  },
  {
   "cell_type": "code",
   "execution_count": 29,
   "id": "3557dabb-c86f-44cb-a9a9-b10bbc5ef228",
   "metadata": {},
   "outputs": [
    {
     "name": "stdout",
     "output_type": "stream",
     "text": [
      "Updated Female Train Mean: 153.00955889547586\n",
      "Updated Female Train Std Dev: 6.080813138614453\n"
     ]
    }
   ],
   "source": [
    "female_train_sorted = np.sort(female_train)\n",
    "top_50_females= np.argsort(female_train)[-50:]\n",
    "female_train[top_50_females] += 10\n",
    "\n",
    "new_female_mean, new_female_std = np.mean(female_train), np.std(female_train)\n",
    "print(\"Updated Female Train Mean:\", new_female_mean)\n",
    "print(\"Updated Female Train Std Dev:\", new_female_std)\n"
   ]
  },
  {
   "cell_type": "code",
   "execution_count": 30,
   "id": "91727d8a-56f7-4305-a353-f02c9693ef92",
   "metadata": {},
   "outputs": [
    {
     "name": "stdout",
     "output_type": "stream",
     "text": [
      "Updated Female Train Accuracy: 0.9375\n",
      "Updated Female Test Accuracy: 0.96\n"
     ]
    }
   ],
   "source": [
    "female_train_predictions_new = np.array([classify(h, male_mean, male_std, new_female_mean, new_female_std) for h in female_train])\n",
    "\n",
    "female_test_predictions_new = np.array([classify(h, male_mean, male_std, new_female_mean, new_female_std) for h in female_test])\n",
    "\n",
    "female_train_accuracy_new = np.mean(female_train_predictions_new == 0)\n",
    "\n",
    "female_test_accuracy_new = np.mean(female_test_predictions_new == 0)\n",
    "\n",
    "print(\"Updated Female Train Accuracy:\", female_train_accuracy_new)\n",
    "print(\"Updated Female Test Accuracy:\", female_test_accuracy_new)\n"
   ]
  },
  {
   "cell_type": "markdown",
   "id": "0410b0cd",
   "metadata": {},
   "source": [
    "- Updated female train mean: 152.74114(↑) \n",
    "- Updated Female train standard deviation: 6.1444(↑) \n",
    "- Updated Female train accuracy: 0.9375(↓) \n",
    "- Updated female test accuracy: 0.94(↑) \n",
    "\n",
    "Mean and Standard Deviation increases after adding top 50 sample heights by 10. \n",
    "Female train accuracy decreases upon adding outliers. However, Female test accuracy increases by adding outliers. \n",
    "There is a fall in training accuracy but increase in testing accuracy which shows that the new data (with new mean and sd) is able to understand the training data better."
   ]
  },
  {
   "cell_type": "code",
   "execution_count": 31,
   "id": "d905e8b0-d4e8-46b9-af9d-e6d00f0065d5",
   "metadata": {},
   "outputs": [
    {
     "name": "stdout",
     "output_type": "stream",
     "text": [
      "Filtered Female Train Accuracy: 0.9587628865979382\n",
      "Filtered Female Test Accuracy: 0.94\n"
     ]
    }
   ],
   "source": [
    "# Calculate means and standard deviations for male and female train data\n",
    "male_mean_train = np.mean(male_train)\n",
    "male_std_train = np.std(male_train)\n",
    "female_mean_train = np.mean(female_train)\n",
    "female_std_train = np.std(female_train)\n",
    "\n",
    "# Calculate Z-scores\n",
    "male_train_zscores = np.abs((male_train - male_mean_train) / male_std_train)\n",
    "female_train_zscores = np.abs((female_train - female_mean_train) / female_std_train)\n",
    "\n",
    "# Filter outliers (Z-score < 3)\n",
    "male_train_filtered = male_train[male_train_zscores < 3]\n",
    "female_train_filtered = female_train[female_train_zscores < 3]\n",
    "\n",
    "# Recalculate means and standard deviations after filtering\n",
    "male_mean_filtered, male_std_filtered = np.mean(male_train_filtered), np.std(male_train_filtered)\n",
    "female_mean_filtered, female_std_filtered = np.mean(female_train_filtered), np.std(female_train_filtered)\n",
    "\n",
    "# Classify filtered\n",
    "female_train_predictions_filtered = np.array([classify(h, male_mean_filtered, male_std_filtered, female_mean_filtered, female_std_filtered) for h in female_train_filtered])\n",
    "\n",
    "female_test_predictions_filtered = np.array([classify(h, male_mean_filtered, male_std_filtered, female_mean_filtered, female_std_filtered) for h in female_test])\n",
    "\n",
    "# Accuracy for female train and test data after filtering\n",
    "female_train_accuracy_filtered = np.mean(female_train_predictions_filtered == np.zeros(len(female_train_filtered)))\n",
    "female_test_accuracy_filtered = np.mean(female_test_predictions_filtered == np.zeros(200))\n",
    "\n",
    "print(\"Filtered Female Train Accuracy:\", female_train_accuracy_filtered)\n",
    "print(\"Filtered Female Test Accuracy:\", female_test_accuracy_filtered)"
   ]
  },
  {
   "cell_type": "markdown",
   "id": "204170f3",
   "metadata": {},
   "source": [
    "- The training accuracy is higher than the original data also after removing outliers.\n",
    "- However, there is a fall in testing accuracy. This must be happening as the variablility is cleared from training data, but the testing data still has some variable data leading to more misclassifications than the training data.\n",
    "- It is a sign of overfitting. The model is not able to generalize well on the testing data."
   ]
  },
  {
   "cell_type": "markdown",
   "id": "a0bcd7d0",
   "metadata": {},
   "source": [
    "## Impact of Trimming"
   ]
  },
  {
   "cell_type": "code",
   "execution_count": null,
   "id": "47f6c4d3-1874-488e-afc0-a9cda281ccd2",
   "metadata": {},
   "outputs": [
    {
     "name": "stdout",
     "output_type": "stream",
     "text": [
      "Trim 1%: Train Accuracy = 0.9464, Test Accuracy = 0.9300\n",
      "Trim 2%: Train Accuracy = 0.9557, Test Accuracy = 0.9250\n",
      "Trim 3%: Train Accuracy = 0.9654, Test Accuracy = 0.9250\n",
      "Trim 4%: Train Accuracy = 0.9701, Test Accuracy = 0.9200\n",
      "Trim 5%: Train Accuracy = 0.9708, Test Accuracy = 0.9050\n",
      "Trim 6%: Train Accuracy = 0.9631, Test Accuracy = 0.8950\n",
      "Trim 7%: Train Accuracy = 0.9637, Test Accuracy = 0.8900\n",
      "Trim 8%: Train Accuracy = 0.9717, Test Accuracy = 0.8900\n",
      "Trim 9%: Train Accuracy = 0.9741, Test Accuracy = 0.8900\n",
      "Trim 10%: Train Accuracy = 0.9844, Test Accuracy = 0.8900\n",
      "Trim 11%: Train Accuracy = 0.9920, Test Accuracy = 0.8850\n",
      "Trim 12%: Train Accuracy = 1.0000, Test Accuracy = 0.8800\n",
      "Trim 13%: Train Accuracy = 1.0000, Test Accuracy = 0.8750\n",
      "Trim 14%: Train Accuracy = 1.0000, Test Accuracy = 0.8550\n",
      "Trim 15%: Train Accuracy = 1.0000, Test Accuracy = 0.8550\n"
     ]
    },
    {
     "data": {
      "image/png": "[encoded data removed]",
      "text/plain": [
       "<Figure size 1000x500 with 1 Axes>"
      ]
     },
     "metadata": {},
     "output_type": "display_data"
    }
   ],
   "source": [
    "female_train_with_outliers = np.copy(female_train)\n",
    "\n",
    "trim_percentages = np.arange(1, 16) \n",
    "train_accuracies = []\n",
    "test_accuracies = []\n",
    "\n",
    "for k in trim_percentages:\n",
    "\n",
    "    lower_bound = np.percentile(female_train_with_outliers, k)  \n",
    "    upper_bound = np.percentile(female_train_with_outliers, 100 - k)  \n",
    "\n",
    "    female_train_trimmed = female_train_with_outliers[(female_train_with_outliers >= lower_bound) & (female_train_with_outliers <= upper_bound)]\n",
    "    female_mean_trimmed, female_std_trimmed = np.mean(female_train_trimmed), np.std(female_train_trimmed)\n",
    "\n",
    "    female_train_predictions_trimmed = np.array([classify(h, male_mean, male_std, female_mean_trimmed, female_std_trimmed) for h in female_train_trimmed])\n",
    "\n",
    "    female_test_predictions_trimmed = np.array([classify(h, male_mean, male_std, female_mean_trimmed, female_std_trimmed) for h in female_test])\n",
    "\n",
    "    female_train_accuracy_trimmed = np.mean(female_train_predictions_trimmed == np.zeros(len(female_train_trimmed)))\n",
    "\n",
    "    female_test_accuracy_trimmed = np.mean(female_test_predictions_trimmed == np.zeros(len(female_test)))\n",
    "\n",
    "    train_accuracies.append(female_train_accuracy_trimmed)\n",
    "    test_accuracies.append(female_test_accuracy_trimmed)\n",
    "\n",
    "    # Print progress\n",
    "    print(f\"Trim {k}%: Train Accuracy = {female_train_accuracy_trimmed:.4f}, Test Accuracy = {female_test_accuracy_trimmed:.4f}\")\n",
    "\n",
    "# Summary of trimming impact\n",
    "import matplotlib.pyplot as plt\n",
    "\n",
    "plt.figure(figsize=(10, 5))\n",
    "plt.plot(trim_percentages, train_accuracies, label=\"Train Accuracy\", marker=\"o\")\n",
    "plt.plot(trim_percentages, test_accuracies, label=\"Test Accuracy\", marker=\"s\")\n",
    "plt.xlabel(\"Trimming Percentage (k%)\")\n",
    "plt.ylabel(\"Accuracy\")\n",
    "plt.title(\"Impact of Trimming on Classification Accuracy\")\n",
    "plt.legend()\n",
    "plt.grid()\n",
    "plt.show()\n"
   ]
  },
  {
   "cell_type": "markdown",
   "id": "5777ad1f",
   "metadata": {},
   "source": [
    "### Observation:  \n",
    "- There is a steady increase in train accuracy with 100% accuracy after 12% trimming.\n",
    "- By removing more and more data from tails, remaining data becomes smaller and homogenous leading to very high accuracy.\n",
    "- There is a steady decrease in testing accuracy with 85.5% lowest recorded at 14% and 15% \n",
    "- The test set still follows original distribution having natural variability and hence, they are not aligning with trimmed training data that is getting tighter so leading to decrease in accuracy. \n",
    "- Essentially, excessive trimming overfits the model to a smaller, cleaner portion of the data. This raises training accuracy but hurts generalization, causing test accuracy to drop."
   ]
  }
 ],
 "metadata": {
  "kernelspec": {
   "display_name": "Python 3",
   "language": "python",
   "name": "python3"
  },
  "language_info": {
   "codemirror_mode": {
    "name": "ipython",
    "version": 3
   },
   "file_extension": ".py",
   "mimetype": "text/x-python",
   "name": "python",
   "nbconvert_exporter": "python",
   "pygments_lexer": "ipython3",
   "version": "3.13.2"
  }
 },
 "nbformat": 4,
 "nbformat_minor": 5
}
